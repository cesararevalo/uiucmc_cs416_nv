{
 "cells": [
  {
   "cell_type": "code",
   "execution_count": 1,
   "id": "8fee2579-1e44-4b53-9e30-97080b5333e3",
   "metadata": {},
   "outputs": [],
   "source": [
    "import json\n",
    "  \n",
    "worldcup_file = open('worldcup.json')\n",
    "\n",
    "worldcup_data = json.load(worldcup_file)\n",
    "\n",
    "worldcup_file.close()"
   ]
  },
  {
   "cell_type": "code",
   "execution_count": 3,
   "id": "1e81cffd-3f7c-48dd-b0c9-206c250e624a",
   "metadata": {},
   "outputs": [],
   "source": [
    "wc_object = json.loads(worldcup_data[0])"
   ]
  },
  {
   "cell_type": "code",
   "execution_count": 16,
   "id": "4293b010-3411-4a2a-bdd6-a01fd9e35491",
   "metadata": {},
   "outputs": [
    {
     "data": {
      "text/plain": [
       "{'key_id': 2,\n",
       " 'tournament_id': 'WC-1934',\n",
       " 'tournament_name': '1934 FIFA World Cup',\n",
       " 'year': 1934,\n",
       " 'start_date': '1934-05-27',\n",
       " 'end_date': '1934-06-10',\n",
       " 'host_country': 'Italy',\n",
       " 'winner': 'Italy',\n",
       " 'host_won': 1,\n",
       " 'count_teams': 16,\n",
       " 'group_stage': 0,\n",
       " 'second_group_stage': 0,\n",
       " 'final_round': 0,\n",
       " 'round_of_16': 1,\n",
       " 'quarter_finals': 1,\n",
       " 'semi_finals': 1,\n",
       " 'third_place_match': 1,\n",
       " 'final': 1}"
      ]
     },
     "execution_count": 16,
     "metadata": {},
     "output_type": "execute_result"
    }
   ],
   "source": [
    "wc_object['tournaments'][0]"
   ]
  },
  {
   "cell_type": "code",
   "execution_count": 42,
   "id": "6acc7fa5-21db-4357-b44a-a9f31146fa45",
   "metadata": {},
   "outputs": [
    {
     "data": {
      "text/plain": [
       "{'key_id': 2,\n",
       " 'tournament_id': 'WC-1930',\n",
       " 'tournament_name': '1930 FIFA World Cup',\n",
       " 'stage_number': 2,\n",
       " 'stage_name': 'semi-finals',\n",
       " 'group_stage': 0,\n",
       " 'knockout_stage': 1,\n",
       " 'unbalanced_groups': 0,\n",
       " 'start_date': '1930-07-26',\n",
       " 'end_date': '1930-07-27',\n",
       " 'count_matches': 2,\n",
       " 'count_teams': 4,\n",
       " 'count_scheduled': 2,\n",
       " 'count_replays': 0,\n",
       " 'count_playoffs': 0,\n",
       " 'count_walkovers': 0}"
      ]
     },
     "execution_count": 42,
     "metadata": {},
     "output_type": "execute_result"
    }
   ],
   "source": [
    "wc_object['tournament_stages'][1]"
   ]
  },
  {
   "cell_type": "code",
   "execution_count": 65,
   "id": "67c4f6ac-24d5-458e-a0e5-51fe50bd17f6",
   "metadata": {},
   "outputs": [
    {
     "data": {
      "text/plain": [
       "{'key_id': 35,\n",
       " 'tournament_id': 'WC-1934',\n",
       " 'tournament_name': '1934 FIFA World Cup',\n",
       " 'match_id': 'M-1934-17',\n",
       " 'match_name': 'Italy v Czechoslovakia',\n",
       " 'stage_name': 'final',\n",
       " 'group_name': 'not applicable',\n",
       " 'group_stage': 0,\n",
       " 'knockout_stage': 1,\n",
       " 'replayed': 0,\n",
       " 'replay': 0,\n",
       " 'match_date': '1934-06-10',\n",
       " 'match_time': '17:00',\n",
       " 'stadium_id': 'S-078',\n",
       " 'stadium_name': 'Stadio Nazionale PNF',\n",
       " 'city_name': 'Rome',\n",
       " 'country_name': 'Italy',\n",
       " 'home_team_id': 'T-39',\n",
       " 'home_team_name': 'Italy',\n",
       " 'home_team_code': 'ITA',\n",
       " 'away_team_id': 'T-20',\n",
       " 'away_team_name': 'Czechoslovakia',\n",
       " 'away_team_code': 'CSK',\n",
       " 'score': '2–1',\n",
       " 'home_team_score': 2,\n",
       " 'away_team_score': 1,\n",
       " 'home_team_score_margin': 1,\n",
       " 'away_team_score_margin': -1,\n",
       " 'extra_time': 1,\n",
       " 'penalty_shootout': 0,\n",
       " 'score_penalties': '0-0',\n",
       " 'home_team_score_penalties': 0,\n",
       " 'away_team_score_penalties': 0,\n",
       " 'result': 'home team win',\n",
       " 'home_team_win': 1,\n",
       " 'away_team_win': 0,\n",
       " 'draw': 0}"
      ]
     },
     "execution_count": 65,
     "metadata": {},
     "output_type": "execute_result"
    }
   ],
   "source": [
    "wc_object['matches'][34]"
   ]
  },
  {
   "cell_type": "code",
   "execution_count": 28,
   "id": "2e28dc3f-4e77-4c91-9a72-0d2d60780d0c",
   "metadata": {},
   "outputs": [
    {
     "data": {
      "text/plain": [
       "{'key_id': 3,\n",
       " 'team_id': 'T-03',\n",
       " 'team_name': 'Argentina',\n",
       " 'team_code': 'ARG',\n",
       " 'federation_name': 'Argentine Football Association',\n",
       " 'region_name': 'South America',\n",
       " 'confederation_id': 'CF-4',\n",
       " 'confederation_name': 'South American Football Confederation',\n",
       " 'confederation_code': 'CONMEBOL',\n",
       " 'team_wikipedia_link': 'https://en.wikipedia.org/wiki/Argentina_national_football_team',\n",
       " 'federation_wikipedia_link': 'https://en.wikipedia.org/wiki/Argentine_Football_Association'}"
      ]
     },
     "execution_count": 28,
     "metadata": {},
     "output_type": "execute_result"
    }
   ],
   "source": [
    "wc_object['teams'][2]"
   ]
  },
  {
   "cell_type": "code",
   "execution_count": 145,
   "id": "4f379a2f-bf0d-4ea6-ba17-e2b8b88d622b",
   "metadata": {},
   "outputs": [],
   "source": [
    "country_participations = {}\n",
    "\n",
    "for team in wc_object['teams']:\n",
    "    country_participations[team['team_code']] = {\n",
    "        'team_code': team['team_code'],\n",
    "        'team_name': team['team_name'],\n",
    "        'tournaments': {},\n",
    "        'group stage': 0,\n",
    "        'round of 16': 0,\n",
    "        'quarter-finals': 0,\n",
    "        'semi-finals': 0,\n",
    "        'third-place match': 0,\n",
    "        'final': 0,\n",
    "        'winner': 0,\n",
    "        'chance_of_passing_round_of_16': 0,\n",
    "        'first_in_group': 0,\n",
    "        'second_in_group': 0\n",
    "    }"
   ]
  },
  {
   "cell_type": "code",
   "execution_count": 146,
   "id": "2ef05c7a-ec65-418f-912c-215b046f0237",
   "metadata": {},
   "outputs": [],
   "source": [
    "def add_match(tournament_id, team_code):\n",
    "    if not tournament_id in country_participations[team_code]['tournaments']:\n",
    "        country_participations[team_code]['tournaments'][tournament_id] = { 'matches': 1 }\n",
    "    else:\n",
    "        country_participations[team_code]['tournaments'][tournament_id]['matches'] += 1\n",
    "\n",
    "\n",
    "for match in wc_object['matches']:\n",
    "    home_team_code = match['home_team_code']\n",
    "    away_team_code = match['away_team_code']\n",
    "    tournament_id = match['tournament_id']\n",
    "    \n",
    "    add_match(tournament_id, home_team_code)\n",
    "    add_match(tournament_id, away_team_code)\n",
    "    \n",
    "    # winner can be determined by either 'home_team_win' or 'away_team_win'\n",
    "    if match['stage_name'] == 'final round':\n",
    "        match['stage_name'] = 'final'\n",
    "    elif match['stage_name'] == 'second group stage':\n",
    "        match['stage_name'] = 'group stage'\n",
    "    \n",
    "    country_participations[home_team_code][match['stage_name']] += 1\n",
    "    country_participations[away_team_code][match['stage_name']] += 1\n",
    "    \n",
    "    if match['stage_name'] == 'final': #or match['stage_name'] == 'final round':\n",
    "        #if home_team_code == 'BRA' or away_team_code == 'BRA':\n",
    "        #    print(f'final match for Brazil: {match} \\n\\n')\n",
    "        \n",
    "        if match['home_team_win'] == 1:\n",
    "            country_participations[home_team_code]['winner'] += 1\n",
    "        else:\n",
    "            country_participations[away_team_code]['winner'] += 1\n",
    "    "
   ]
  },
  {
   "cell_type": "code",
   "execution_count": 147,
   "id": "4dba7484-6839-4794-bf63-26f4cebaff53",
   "metadata": {},
   "outputs": [],
   "source": [
    "for country in country_participations:\n",
    "    country_participations[country]['participations'] = len(country_participations[country]['tournaments'])"
   ]
  },
  {
   "cell_type": "code",
   "execution_count": 148,
   "id": "56e98e9b-4d4d-4bb0-913f-791771be89f7",
   "metadata": {},
   "outputs": [
    {
     "data": {
      "text/plain": [
       "{'team_code': 'FRA',\n",
       " 'team_name': 'France',\n",
       " 'tournaments': {'WC-1930': {'matches': 3},\n",
       "  'WC-1934': {'matches': 1},\n",
       "  'WC-1938': {'matches': 2},\n",
       "  'WC-1954': {'matches': 2},\n",
       "  'WC-1958': {'matches': 6},\n",
       "  'WC-1966': {'matches': 3},\n",
       "  'WC-1978': {'matches': 3},\n",
       "  'WC-1982': {'matches': 7},\n",
       "  'WC-1986': {'matches': 7},\n",
       "  'WC-1998': {'matches': 7},\n",
       "  'WC-2002': {'matches': 3},\n",
       "  'WC-2006': {'matches': 7},\n",
       "  'WC-2010': {'matches': 3},\n",
       "  'WC-2014': {'matches': 5},\n",
       "  'WC-2018': {'matches': 7}},\n",
       " 'group stage': 40,\n",
       " 'round of 16': 7,\n",
       " 'quarter-finals': 7,\n",
       " 'semi-finals': 6,\n",
       " 'third-place match': 3,\n",
       " 'final': 3,\n",
       " 'winner': 2,\n",
       " 'chance_of_passing_round_of_16': 0,\n",
       " 'first_in_group': 0,\n",
       " 'second_in_group': 0,\n",
       " 'participations': 15}"
      ]
     },
     "execution_count": 148,
     "metadata": {},
     "output_type": "execute_result"
    }
   ],
   "source": [
    "country_participations['FRA']"
   ]
  },
  {
   "cell_type": "markdown",
   "id": "59bcb5c9-c473-4e5c-9d92-ba1001a7d9b2",
   "metadata": {},
   "source": [
    "Adding Qatar manually because it has never been to the world cup previously"
   ]
  },
  {
   "cell_type": "code",
   "execution_count": 149,
   "id": "f91231e0-0beb-4779-953e-6476abf24aff",
   "metadata": {},
   "outputs": [],
   "source": [
    "country_participations['QAT'] = {'team_code': 'QAT',\n",
    " 'team_name': 'Qatar',\n",
    " 'tournaments': {},\n",
    " 'group stage': 0,\n",
    " 'round of 16': 0,\n",
    " 'quarter-finals': 0,\n",
    " 'semi-finals': 0,\n",
    " 'third-place match': 0,\n",
    " 'final': 0,\n",
    " 'winner': 0,\n",
    " 'participations': 0,\n",
    " 'chance_of_passing_round_of_16': 0,\n",
    " 'first_in_group': 0,\n",
    " 'second_in_group': 0}"
   ]
  },
  {
   "cell_type": "markdown",
   "id": "5660c4c2-5920-4f8c-af8f-5dc6c1fbe9f1",
   "metadata": {},
   "source": [
    "Calculate Passing Group Stage Predictions"
   ]
  },
  {
   "cell_type": "code",
   "execution_count": 156,
   "id": "d54a71f0-597f-4ae5-8c05-eed343fad2a5",
   "metadata": {},
   "outputs": [
    {
     "name": "stdout",
     "output_type": "stream",
     "text": [
      "group: A; sum_of_all_round_of_16_participations: 10\n",
      "group: A; first_in_group_chance: 0.1\n",
      "group: A; first_in_group_chance: 0.8\n",
      "group: A; second_in_group_chance: 0.1\n",
      "group: B; sum_of_all_round_of_16_participations: 12\n",
      "group: B; first_in_group_chance: 0.5833333333333334\n",
      "group: B; second_in_group_chance: 0.4166666666666667\n",
      "group: C; sum_of_all_round_of_16_participations: 20\n",
      "group: C; first_in_group_chance: 0.45\n",
      "group: C; second_in_group_chance: 0.4\n",
      "group: D; sum_of_all_round_of_16_participations: 12\n",
      "group: D; first_in_group_chance: 0.08333333333333333\n",
      "group: D; first_in_group_chance: 0.3333333333333333\n",
      "group: D; first_in_group_chance: 0.5833333333333334\n",
      "group: E; sum_of_all_round_of_16_participations: 24\n",
      "group: E; first_in_group_chance: 0.08333333333333333\n",
      "group: E; first_in_group_chance: 0.4583333333333333\n",
      "group: E; second_in_group_chance: 0.125\n",
      "group: E; second_in_group_chance: 0.3333333333333333\n",
      "group: F; sum_of_all_round_of_16_participations: 11\n",
      "group: F; first_in_group_chance: 0.7272727272727273\n",
      "group: F; second_in_group_chance: 0.18181818181818182\n",
      "group: G; sum_of_all_round_of_16_participations: 19\n",
      "group: G; first_in_group_chance: 0.5789473684210527\n",
      "group: G; second_in_group_chance: 0.05263157894736842\n",
      "group: G; second_in_group_chance: 0.3684210526315789\n",
      "group: H; sum_of_all_round_of_16_participations: 12\n",
      "group: H; first_in_group_chance: 0.16666666666666666\n",
      "group: H; second_in_group_chance: 0.16666666666666666\n",
      "group: H; first_in_group_chance: 0.25\n",
      "group: H; first_in_group_chance: 0.4166666666666667\n"
     ]
    }
   ],
   "source": [
    "groups = ['A', 'B', 'C', 'D', 'E', 'F', 'G', 'H']\n",
    "\n",
    "group_to_countries = {\n",
    "    'A': [ 'ECU', 'NLD', 'QAT', 'SEN' ],\n",
    "    'B': [ 'ENG', 'IRN', 'USA', 'WAL' ],\n",
    "    'C': [ 'ARG', 'MEX', 'POL', 'SAU' ],\n",
    "    'D': [ 'AUS', 'DNK', 'FRA', 'TUN' ],\n",
    "    'E': [ 'CRI', 'DEU', 'JPN', 'ESP' ],\n",
    "    'F': [ 'BEL', 'CAN', 'HRV', 'MAR' ],\n",
    "    'G': [ 'BRA', 'CMR', 'SRB', 'CHE' ],\n",
    "    'H': [ 'GHA', 'KOR', 'PRT', 'URY' ],\n",
    "}\n",
    "\n",
    "for group in group_to_countries:\n",
    "    sum_of_all_round_of_16_participations = 0;\n",
    "    for country in group_to_countries[group]:\n",
    "        sum_of_all_round_of_16_participations += country_participations[country]['round of 16']\n",
    "    \n",
    "    print(f'group: {group}; sum_of_all_round_of_16_participations: {sum_of_all_round_of_16_participations}')\n",
    "    \n",
    "    first_in_group_chance = 0\n",
    "    first_in_group = None\n",
    "    second_in_group_chance = 0\n",
    "    second_in_group = None\n",
    "    \n",
    "    for country in group_to_countries[group]:\n",
    "        chance_of_passing_round_of_16 = country_participations[country]['round of 16'] / sum_of_all_round_of_16_participations\n",
    "        country_participations[country]['chance_of_passing_round_of_16'] = chance_of_passing_round_of_16\n",
    "        \n",
    "        if chance_of_passing_round_of_16 > first_in_group_chance:\n",
    "            \n",
    "            if first_in_group:\n",
    "                second_in_group = first_in_group\n",
    "            \n",
    "            first_in_group = country\n",
    "            first_in_group_chance = chance_of_passing_round_of_16\n",
    "            print(f'group: {group}; first_in_group_chance: {first_in_group_chance}')\n",
    "\n",
    "        elif chance_of_passing_round_of_16 > second_in_group_chance:\n",
    "            second_in_group = country\n",
    "            second_in_group_chance = chance_of_passing_round_of_16\n",
    "            print(f'group: {group}; second_in_group_chance: {second_in_group_chance}')\n",
    "\n",
    "    country_participations[first_in_group]['first_in_group'] = 1\n",
    "    country_participations[second_in_group]['second_in_group'] = 1"
   ]
  },
  {
   "cell_type": "markdown",
   "id": "61d8c39f-a7ce-460e-a216-416e211a5212",
   "metadata": {},
   "source": [
    "Write out data to CSV file"
   ]
  },
  {
   "cell_type": "code",
   "execution_count": 157,
   "id": "a1cbcbec-175c-4414-aa34-3cde55855a20",
   "metadata": {},
   "outputs": [],
   "source": [
    "import csv\n",
    "\n",
    "csv_file = open('wc_data_processed.csv', 'w')\n",
    "\n",
    "csv_writer = csv.writer(csv_file)\n",
    "\n",
    "header = None\n",
    "\n",
    "for country in country_participations:\n",
    "    if not header:\n",
    "        header = country_participations[country].keys()\n",
    "        csv_writer.writerow(header)\n",
    "\n",
    "    csv_writer.writerow(country_participations[country].values())\n",
    "\n",
    "csv_file.close()"
   ]
  }
 ],
 "metadata": {
  "kernelspec": {
   "display_name": "Python 3 (ipykernel)",
   "language": "python",
   "name": "python3"
  },
  "language_info": {
   "codemirror_mode": {
    "name": "ipython",
    "version": 3
   },
   "file_extension": ".py",
   "mimetype": "text/x-python",
   "name": "python",
   "nbconvert_exporter": "python",
   "pygments_lexer": "ipython3",
   "version": "3.10.4"
  }
 },
 "nbformat": 4,
 "nbformat_minor": 5
}
